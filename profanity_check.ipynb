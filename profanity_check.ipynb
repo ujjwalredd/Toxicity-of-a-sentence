{
  "nbformat": 4,
  "nbformat_minor": 0,
  "metadata": {
    "colab": {
      "name": "profanity-check.ipynb",
      "provenance": [],
      "collapsed_sections": [],
      "toc_visible": true,
      "include_colab_link": true
    },
    "kernelspec": {
      "name": "python3",
      "display_name": "Python 3"
    },
    "language_info": {
      "name": "python"
    }
  },
  "cells": [
    {
      "cell_type": "markdown",
      "metadata": {
        "id": "view-in-github",
        "colab_type": "text"
      },
      "source": [
        "<a href=\"https://colab.research.google.com/github/ujjwalredd/Toxicity-of-a-sentence/blob/main/profanity_check.ipynb\" target=\"_parent\"><img src=\"https://colab.research.google.com/assets/colab-badge.svg\" alt=\"Open In Colab\"/></a>"
      ]
    },
    {
      "cell_type": "code",
      "execution_count": null,
      "metadata": {
        "colab": {
          "base_uri": "https://localhost:8080/"
        },
        "id": "tQ9hdLT_YkNe",
        "outputId": "c0c09575-670f-4138-b6d2-f3026619e320"
      },
      "outputs": [
        {
          "output_type": "stream",
          "name": "stdout",
          "text": [
            "Requirement already satisfied: sklearn in /usr/local/lib/python3.7/dist-packages (0.0)\n",
            "Requirement already satisfied: scikit-learn in /usr/local/lib/python3.7/dist-packages (from sklearn) (1.0.2)\n",
            "Requirement already satisfied: scipy>=1.1.0 in /usr/local/lib/python3.7/dist-packages (from scikit-learn->sklearn) (1.4.1)\n",
            "Requirement already satisfied: numpy>=1.14.6 in /usr/local/lib/python3.7/dist-packages (from scikit-learn->sklearn) (1.21.5)\n",
            "Requirement already satisfied: threadpoolctl>=2.0.0 in /usr/local/lib/python3.7/dist-packages (from scikit-learn->sklearn) (3.1.0)\n",
            "Requirement already satisfied: joblib>=0.11 in /usr/local/lib/python3.7/dist-packages (from scikit-learn->sklearn) (1.1.0)\n"
          ]
        }
      ],
      "source": [
        "pip install sklearn --upgrade"
      ]
    },
    {
      "cell_type": "code",
      "source": [
        "pip install spacy"
      ],
      "metadata": {
        "colab": {
          "base_uri": "https://localhost:8080/"
        },
        "id": "COMzsoxVYm_U",
        "outputId": "eb2f2280-3b36-44bf-81d5-6cb9ccfe2762"
      },
      "execution_count": null,
      "outputs": [
        {
          "output_type": "stream",
          "name": "stdout",
          "text": [
            "Requirement already satisfied: spacy in /usr/local/lib/python3.7/dist-packages (2.2.4)\n",
            "Requirement already satisfied: cymem<2.1.0,>=2.0.2 in /usr/local/lib/python3.7/dist-packages (from spacy) (2.0.6)\n",
            "Requirement already satisfied: tqdm<5.0.0,>=4.38.0 in /usr/local/lib/python3.7/dist-packages (from spacy) (4.62.3)\n",
            "Requirement already satisfied: blis<0.5.0,>=0.4.0 in /usr/local/lib/python3.7/dist-packages (from spacy) (0.4.1)\n",
            "Requirement already satisfied: murmurhash<1.1.0,>=0.28.0 in /usr/local/lib/python3.7/dist-packages (from spacy) (1.0.6)\n",
            "Requirement already satisfied: numpy>=1.15.0 in /usr/local/lib/python3.7/dist-packages (from spacy) (1.21.5)\n",
            "Requirement already satisfied: plac<1.2.0,>=0.9.6 in /usr/local/lib/python3.7/dist-packages (from spacy) (1.1.3)\n",
            "Requirement already satisfied: wasabi<1.1.0,>=0.4.0 in /usr/local/lib/python3.7/dist-packages (from spacy) (0.9.0)\n",
            "Requirement already satisfied: preshed<3.1.0,>=3.0.2 in /usr/local/lib/python3.7/dist-packages (from spacy) (3.0.6)\n",
            "Requirement already satisfied: requests<3.0.0,>=2.13.0 in /usr/local/lib/python3.7/dist-packages (from spacy) (2.23.0)\n",
            "Requirement already satisfied: srsly<1.1.0,>=1.0.2 in /usr/local/lib/python3.7/dist-packages (from spacy) (1.0.5)\n",
            "Requirement already satisfied: thinc==7.4.0 in /usr/local/lib/python3.7/dist-packages (from spacy) (7.4.0)\n",
            "Requirement already satisfied: catalogue<1.1.0,>=0.0.7 in /usr/local/lib/python3.7/dist-packages (from spacy) (1.0.0)\n",
            "Requirement already satisfied: setuptools in /usr/local/lib/python3.7/dist-packages (from spacy) (57.4.0)\n",
            "Requirement already satisfied: importlib-metadata>=0.20 in /usr/local/lib/python3.7/dist-packages (from catalogue<1.1.0,>=0.0.7->spacy) (4.11.1)\n",
            "Requirement already satisfied: typing-extensions>=3.6.4 in /usr/local/lib/python3.7/dist-packages (from importlib-metadata>=0.20->catalogue<1.1.0,>=0.0.7->spacy) (3.10.0.2)\n",
            "Requirement already satisfied: zipp>=0.5 in /usr/local/lib/python3.7/dist-packages (from importlib-metadata>=0.20->catalogue<1.1.0,>=0.0.7->spacy) (3.7.0)\n",
            "Requirement already satisfied: urllib3!=1.25.0,!=1.25.1,<1.26,>=1.21.1 in /usr/local/lib/python3.7/dist-packages (from requests<3.0.0,>=2.13.0->spacy) (1.24.3)\n",
            "Requirement already satisfied: idna<3,>=2.5 in /usr/local/lib/python3.7/dist-packages (from requests<3.0.0,>=2.13.0->spacy) (2.10)\n",
            "Requirement already satisfied: chardet<4,>=3.0.2 in /usr/local/lib/python3.7/dist-packages (from requests<3.0.0,>=2.13.0->spacy) (3.0.4)\n",
            "Requirement already satisfied: certifi>=2017.4.17 in /usr/local/lib/python3.7/dist-packages (from requests<3.0.0,>=2.13.0->spacy) (2021.10.8)\n"
          ]
        }
      ]
    },
    {
      "cell_type": "code",
      "source": [
        "pip install alt-profanity-check"
      ],
      "metadata": {
        "colab": {
          "base_uri": "https://localhost:8080/"
        },
        "id": "87ETCKu6zRjc",
        "outputId": "9a65097b-68cc-48a6-94ad-8e2c92ad2879"
      },
      "execution_count": null,
      "outputs": [
        {
          "output_type": "stream",
          "name": "stdout",
          "text": [
            "Collecting alt-profanity-check\n",
            "  Downloading alt-profanity-check-1.0.2.1.tar.gz (1.9 MB)\n",
            "\u001b[K     |████████████████████████████████| 1.9 MB 6.9 MB/s \n",
            "\u001b[?25hRequirement already satisfied: scikit-learn==1.0.2 in /usr/local/lib/python3.7/dist-packages (from alt-profanity-check) (1.0.2)\n",
            "Requirement already satisfied: joblib>=1.1.0 in /usr/local/lib/python3.7/dist-packages (from alt-profanity-check) (1.1.0)\n",
            "Requirement already satisfied: threadpoolctl>=2.0.0 in /usr/local/lib/python3.7/dist-packages (from scikit-learn==1.0.2->alt-profanity-check) (3.1.0)\n",
            "Requirement already satisfied: scipy>=1.1.0 in /usr/local/lib/python3.7/dist-packages (from scikit-learn==1.0.2->alt-profanity-check) (1.4.1)\n",
            "Requirement already satisfied: numpy>=1.14.6 in /usr/local/lib/python3.7/dist-packages (from scikit-learn==1.0.2->alt-profanity-check) (1.21.5)\n",
            "Building wheels for collected packages: alt-profanity-check\n",
            "  Building wheel for alt-profanity-check (setup.py) ... \u001b[?25l\u001b[?25hdone\n",
            "  Created wheel for alt-profanity-check: filename=alt_profanity_check-1.0.2.1-py3-none-any.whl size=1865308 sha256=2201ff8a30d922f9bf001683e9857686fb709011c0d541c7dfaf229debcaf088\n",
            "  Stored in directory: /root/.cache/pip/wheels/97/0b/42/bcc90fa73e8d6765fab1c9436ac4bc5a6978887c937978db00\n",
            "Successfully built alt-profanity-check\n",
            "Installing collected packages: alt-profanity-check\n",
            "Successfully installed alt-profanity-check-1.0.2.1\n"
          ]
        }
      ]
    },
    {
      "cell_type": "code",
      "source": [
        "import nltk\n",
        "from profanity_check import predict_prob\n",
        "\n",
        "nltk.download('punkt')\n",
        "\n",
        "with open('content.txt') as f:\n",
        "    lines = f.readlines()\n",
        "    l = \"\".join(map(str, lines))\n",
        "\n",
        "text = l\n",
        "a_list = nltk.tokenize.sent_tokenize(text)\n",
        "\n",
        "with open(\"./row.txt\", 'w') as file:\n",
        "  for row1 in a_list:\n",
        "    j = \"\".join(map(str, row1))\n",
        "    file.write(j + '\\n')"
      ],
      "metadata": {
        "id": "cM2OPN_-qIkE",
        "colab": {
          "base_uri": "https://localhost:8080/"
        },
        "outputId": "fa6bb9be-86af-4ac0-d0e8-1b8061bc1049"
      },
      "execution_count": null,
      "outputs": [
        {
          "output_type": "stream",
          "name": "stdout",
          "text": [
            "[nltk_data] Downloading package punkt to /root/nltk_data...\n",
            "[nltk_data]   Package punkt is already up-to-date!\n"
          ]
        }
      ]
    },
    {
      "cell_type": "code",
      "source": [
        "import csv \n",
        "\n",
        "test_file = open(\"./column.txt\")\n",
        "data = test_file.read()\n",
        "test_file.close()\n",
        "\n",
        "permlist = data.split('\\n')\n",
        "permlist.pop()\n",
        "\n",
        "csv_row_data = ['Sentence']\n",
        "csv_row_data += permlist\n",
        "\n",
        "with open('toxicity.csv', 'w') as csv_file:\n",
        "  writer = csv.writer(csv_file)\n",
        "  writer.writerow(csv_row_data)"
      ],
      "metadata": {
        "id": "aPgUO7oEqXl7"
      },
      "execution_count": null,
      "outputs": []
    },
    {
      "cell_type": "code",
      "source": [
        "from profanity_check.profanity_check import predict\n",
        "cont = open(\"./row.txt\",\"r\").readlines()\n",
        "fieldnames = []\n",
        "with open('toxicity.csv') as csv_file:\n",
        "  CSVREADER = csv.DictReader(csv_file)\n",
        "  fieldnames = CSVREADER.fieldnames\n",
        "\n",
        "i=0\n",
        "for m in cont:\n",
        "  n = cont[i]\n",
        "  percent = predict_prob([n])\n",
        "  value = predict([n])\n",
        "  v = value[0]\n",
        "  percentage = percent[0]\n",
        "  with open('toxicity.csv', 'a') as csv_dump:\n",
        "            CSVwriter = csv.DictWriter(csv_dump, fieldnames=fieldnames)\n",
        "            CSVwriter.writerow({\n",
        "                \"Sentence\": n,\n",
        "                \"Toxicity(%)\": percentage,\n",
        "                \"Values\": v,\n",
        "            })\n",
        "  i+=1"
      ],
      "metadata": {
        "id": "OwawqW_OqeTu"
      },
      "execution_count": null,
      "outputs": []
    }
  ]
}